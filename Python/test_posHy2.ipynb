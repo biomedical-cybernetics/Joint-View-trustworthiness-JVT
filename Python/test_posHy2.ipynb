{
 "cells": [
  {
   "cell_type": "code",
   "execution_count": 1,
   "id": "37ee1b49",
   "metadata": {},
   "outputs": [
    {
     "name": "stdout",
     "output_type": "stream",
     "text": [
      "                 cav1      fhl2    igfbp7     tagln     thbs1  Comb Marker\n",
      "min AUC-ROC  0.887446  0.878070  0.727193  0.560526  0.860708     0.918367\n",
      "JVT p-value  0.027861  0.032836  0.174129  0.603980  0.048756     0.000999\n"
     ]
    }
   ],
   "source": [
    "import os\n",
    "os.chdir(\"E:/Github final/Python\") \n",
    "# set your working directory the 'Python Code' folder\n",
    "from importlib import reload\n",
    "import JVT # import the file carrying JVT function\n",
    "JVT=reload(JVT)\n",
    "\n",
    "#initialization of the input variables for positive hypothesis 2 in Table 4 of Urbanska et al\n",
    "datasets = ['carcinoma_CCLE_micro_posHy2','carcinoma_CCLE_RNASeq_posHy2','carcinoma_Klijn_posHy2']\n",
    "CoMa=['cav1','fhl2','igfbp7','tagln','thbs1']\n",
    "al=[1,1,1,1,1]\n",
    "norm='log10' # available options 'log10' and 'zscore'\n",
    "t=1000 # in the study Urbanska et al. we used t=10000, but here for speed up\n",
    "# the computation we use t=1000 since the results are comparable\n",
    "\n",
    "#JVT computation for positive hypothesis 2 reproduce results in Table 4 of Urbanska et al.\n",
    "JVT.JVT(datasets,CoMa,al,norm,t)"
   ]
  },
  {
   "cell_type": "code",
   "execution_count": null,
   "id": "8d942b5a",
   "metadata": {},
   "outputs": [],
   "source": []
  }
 ],
 "metadata": {
  "kernelspec": {
   "display_name": "Python 3",
   "language": "python",
   "name": "python3"
  },
  "language_info": {
   "codemirror_mode": {
    "name": "ipython",
    "version": 3
   },
   "file_extension": ".py",
   "mimetype": "text/x-python",
   "name": "python",
   "nbconvert_exporter": "python",
   "pygments_lexer": "ipython3",
   "version": "3.9.4"
  }
 },
 "nbformat": 4,
 "nbformat_minor": 5
}
