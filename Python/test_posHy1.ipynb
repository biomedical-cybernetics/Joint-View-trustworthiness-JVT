{
 "cells": [
  {
   "cell_type": "code",
   "execution_count": 2,
   "id": "012c4237",
   "metadata": {},
   "outputs": [
    {
     "name": "stdout",
     "output_type": "stream",
     "text": [
      "                 cav1      fhl2    igfbp7     tagln     thbs1  Comb Marker\n",
      "min AUC-ROC  0.777778  0.888889  0.666667  0.777778  0.555556     0.972222\n",
      "JVT p-value  0.135323  0.033831  0.292537  0.135323  0.835821     0.010989\n"
     ]
    }
   ],
   "source": [
    "import os\n",
    "os.chdir(\"E:/Github final/Python\") \n",
    "# set your working directory the 'Python Code' folder\n",
    "from importlib import reload\n",
    "import JVT # import the file carrying JVT function\n",
    "JVT=reload(JVT)\n",
    "\n",
    "#initialization of the input variables for positive hypothesis 1 in Table 4 of Urbanska et al\n",
    "datasets = ['carcinoma_fantom5_posHp1','developing_neurons_posHy1','MCF10A_posHy1']\n",
    "CoMa=['cav1','fhl2','igfbp7','tagln','thbs1']\n",
    "al=[1,1,1,1,1]\n",
    "norm='log10' # available options 'log10' and 'zscore'\n",
    "t=1000 # in the study Urbanska et al. we used t=10000, but here for speed up\n",
    "# the computation we use t=1000 since the results are comparable\n",
    "\n",
    "#JVT computation for positive hypothesis 1 reproduce results in Table 4 of Urbanska et al.\n",
    "JVT.JVT(datasets,CoMa,al,norm,t)\n",
    "\n"
   ]
  },
  {
   "cell_type": "code",
   "execution_count": null,
   "id": "f5dec23e",
   "metadata": {},
   "outputs": [],
   "source": []
  },
  {
   "cell_type": "code",
   "execution_count": null,
   "id": "3daf00ba",
   "metadata": {},
   "outputs": [],
   "source": []
  }
 ],
 "metadata": {
  "kernelspec": {
   "display_name": "Python 3",
   "language": "python",
   "name": "python3"
  },
  "language_info": {
   "codemirror_mode": {
    "name": "ipython",
    "version": 3
   },
   "file_extension": ".py",
   "mimetype": "text/x-python",
   "name": "python",
   "nbconvert_exporter": "python",
   "pygments_lexer": "ipython3",
   "version": "3.9.4"
  }
 },
 "nbformat": 4,
 "nbformat_minor": 5
}
