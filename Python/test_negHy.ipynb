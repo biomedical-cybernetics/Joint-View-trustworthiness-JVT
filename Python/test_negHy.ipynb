{
 "cells": [
  {
   "cell_type": "code",
   "execution_count": 1,
   "id": "80c6eca4",
   "metadata": {},
   "outputs": [
    {
     "name": "stdout",
     "output_type": "stream",
     "text": [
      "                 cav1      fhl2    igfbp7     tagln     thbs1  Comb Marker\n",
      "min AUC-ROC  0.539780  0.513426  0.505508  0.523868  0.611995     0.505508\n",
      "JVT p-value  0.402985  0.746269  0.886567  0.595025  0.048756     0.919081\n"
     ]
    }
   ],
   "source": [
    "import os\n",
    "os.chdir(\"E:/Github final/Python\") \n",
    "# set your working directory the 'Python Code' folder\n",
    "from importlib import reload\n",
    "import JVT # import the file carrying JVT function\n",
    "JVT=reload(JVT)\n",
    "\n",
    "#initialization of the input variables for negative hypothesis in Table 4 of Urbanska et al\n",
    "datasets = ['carcinoma_CCLE_micro_1LuS_NegHy','carcinoma_CCLE_micro_2InS_NegHy','carcinoma_Klijn_NegHy']\n",
    "CoMa=['cav1','fhl2','igfbp7','tagln','thbs1']\n",
    "al=[1,1,1,1,1]\n",
    "norm='log10' # available options 'log10' and 'zscore'\n",
    "t=1000 # in the study Urbanska et al. we used t=10000, but here for speed up\n",
    "# the computation we use t=1000 since the results are comparable\n",
    "\n",
    "#JVT computation for negative hypothesis reproduce results in Table 4 of Urbanska et al.\n",
    "JVT.JVT(datasets,CoMa,al,norm,t)"
   ]
  },
  {
   "cell_type": "code",
   "execution_count": null,
   "id": "20491391",
   "metadata": {},
   "outputs": [],
   "source": []
  }
 ],
 "metadata": {
  "kernelspec": {
   "display_name": "Python 3",
   "language": "python",
   "name": "python3"
  },
  "language_info": {
   "codemirror_mode": {
    "name": "ipython",
    "version": 3
   },
   "file_extension": ".py",
   "mimetype": "text/x-python",
   "name": "python",
   "nbconvert_exporter": "python",
   "pygments_lexer": "ipython3",
   "version": "3.9.4"
  }
 },
 "nbformat": 4,
 "nbformat_minor": 5
}
